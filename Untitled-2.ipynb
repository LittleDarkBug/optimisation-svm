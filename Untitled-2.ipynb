{
 "cells": [
  {
   "cell_type": "markdown",
   "id": "e386c929",
   "metadata": {},
   "source": [
    "# **Projet IA: Détection Automatique de Genre pour la Carte d'Identité Nationale du Togo**"
   ]
  },
  {
   "cell_type": "markdown",
   "id": "2c08f20f",
   "metadata": {},
   "source": [
    "### **Importation des modules importants**"
   ]
  },
  {
   "cell_type": "code",
   "execution_count": 721,
   "id": "c3353fe7",
   "metadata": {},
   "outputs": [
    {
     "name": "stdout",
     "output_type": "stream",
     "text": [
      "Requirement already satisfied: metaphone in c:\\users\\sasar\\anaconda3\\envs\\tp_env\\lib\\site-packages (0.6)\n",
      "Requirement already satisfied: jellyfish in c:\\users\\sasar\\anaconda3\\envs\\tp_env\\lib\\site-packages (1.2.0)\n"
     ]
    }
   ],
   "source": [
    "!pip install metaphone\n",
    "!pip install jellyfish\n",
    "\n",
    "import pandas as pd\n",
    "from sklearn.model_selection import train_test_split\n",
    "from catboost import CatBoostClassifier, Pool\n",
    "from sklearn.metrics import accuracy_score, classification_report\n",
    "from metaphone import doublemetaphone\n",
    "import jellyfish\n",
    "import matplotlib.pyplot as plt\n",
    "import seaborn as sns\n",
    "import re\n"
   ]
  },
  {
   "cell_type": "markdown",
   "id": "88bf077a",
   "metadata": {},
   "source": [
    "## **Etape 1 : Préparation des données**"
   ]
  },
  {
   "cell_type": "markdown",
   "id": "26c5ec1e",
   "metadata": {},
   "source": [
    "### Dans cette partie , nous importons les données et affichons l'apreçu du dataset et ses caractéristiques."
   ]
  },
  {
   "cell_type": "code",
   "execution_count": 722,
   "id": "59ffa15c",
   "metadata": {},
   "outputs": [
    {
     "name": "stdout",
     "output_type": "stream",
     "text": [
      "(10000, 3)\n",
      "  firstname  lastname  gender\n",
      "0   Valerie     Koffi       0\n",
      "1   Laurent    Avoseh       1\n",
      "2  Violette    Tetteh       0\n",
      "3     David  Gbedemah       1\n",
      "4  Akossiwa    Akakpo       0\n"
     ]
    }
   ],
   "source": [
    "# Load the dataset\n",
    "df = pd.read_csv(\"dataset_names.csv\", sep=\",\")\n",
    "\n",
    "# Display the shape and first few rows of the dataset\n",
    "print(df.shape)\n",
    "print(df.head())\n"
   ]
  },
  {
   "cell_type": "markdown",
   "id": "46db043f",
   "metadata": {},
   "source": [
    "### Maintenant , vérifions les valeurs manquantes"
   ]
  },
  {
   "cell_type": "code",
   "execution_count": 723,
   "id": "38e91707",
   "metadata": {},
   "outputs": [
    {
     "data": {
      "text/plain": [
       "firstname    0\n",
       "lastname     0\n",
       "gender       0\n",
       "dtype: int64"
      ]
     },
     "execution_count": 723,
     "metadata": {},
     "output_type": "execute_result"
    }
   ],
   "source": [
    "df.isnull().sum()"
   ]
  },
  {
   "cell_type": "markdown",
   "id": "0c62ac43",
   "metadata": {},
   "source": [
    "### **Feature Engineering:** Nous allons creer des features qui vont nous aider a entrainer le model\n"
   ]
  },
  {
   "cell_type": "code",
   "execution_count": 724,
   "id": "d0c3ac7c",
   "metadata": {},
   "outputs": [
    {
     "name": "stdout",
     "output_type": "stream",
     "text": [
      "Index(['length', 'has_feminine_ending', 'has_masculine_ending', 'num_vowels',\n",
      "       'num_consonants', 'has_double_letters', 'starts_with_vowel',\n",
      "       'ends_with_vowel', 'max_consecutive_vowels',\n",
      "       'max_consecutive_consonants', 'vowel_consonant_ratio', 'metaphone1',\n",
      "       'metaphone2'],\n",
      "      dtype='object')\n"
     ]
    }
   ],
   "source": [
    "# Define lists of common feminine and masculine name endings\n",
    "feminine_endings = ['a', 'e', 's', 'i', 'u','ue', 'y', 'ê', 'ï', 'éa', 'ée', 'ère', 'ine', 'elle', 'ette','ia', 'na', 'la', 'ta', 'sa', 'ra', 'ina', 'ana', 'isa', 'sha', 'tha',\n",
    "    'cha', 'cia', 'lia', 'nia', 'ita', 'ila', 'ella', 'ina', 'yna', 'ara',\n",
    "    'ora', 'ira', 'aya', 'eva', 'ine', 'yne', 'sia', 'mia', 'lea','ève',\"uth\",'ah','aire','eth']\n",
    "masculine_endings = ['o', 'n', 'd', 'us', 'é', 'er', 'l', 't', 'r', 'm', 'k', 'g', 'c', 'p', 'b', 'f', 'v', 'is','an', 'on', 'in',  'ien', 'ain', 'yn', 'ric', 'ick', 'el', 'il',\n",
    "    'ol', 'ar', 'or', 'am', 'im', 'em', 'ou', 'us', 'as', 'ek', 'dr', 'ai',\n",
    "    'aël', 'iel', 'uel', 'tin', 'lin', 'yan', 'ian', 'éo', 'éo', 'ys','en','ste','ouan','phe','van','tan','lan',\"oit\",'erre','re','ph']\n",
    "\n",
    "# Function to extract linguistic and phonetic features from a given name\n",
    "def extract_features(firstname):\n",
    "    firstname = str(firstname).lower()  # Convert to lowercase for uniformity\n",
    "    length = len(firstname)  # Length of the name\n",
    "\n",
    "    # Define the feature dictionary\n",
    "    features = {\n",
    "        \"length\": len(firstname),  # Total number of characters\n",
    "        \"has_feminine_ending\": int(any(firstname.endswith(term) for term in feminine_endings)),  # Checks if name ends with a typical feminine suffix\n",
    "        \"has_masculine_ending\": int(any(firstname.endswith(term) for term in masculine_endings)),  # Checks for masculine suffix\n",
    "        \"num_vowels\": sum(c in 'aeiouy' for c in firstname),  # Counts vowel characters\n",
    "        \"num_consonants\": sum(c in 'bcdfghjklmnpqrstvwxz' for c in firstname),  # Counts consonant characters\n",
    "        \"has_double_letters\": int(any(c*2 in firstname for c in 'abcdefilmnst')),  # Checks if the name contains any repeated characters\n",
    "    }\n",
    "\n",
    "    # Check if the first and last letters are vowels\n",
    "    if len(firstname) > 0:\n",
    "        features[\"starts_with_vowel\"] = int(firstname[0] in 'aeiouy')  # Binary feature: starts with vowel\n",
    "        features[\"ends_with_vowel\"] = int(firstname[-1] in 'aeiouy')  # Binary feature: ends with vowel\n",
    "    else:\n",
    "        features[\"starts_with_vowel\"] = 0\n",
    "        features[\"ends_with_vowel\"] = 0\n",
    "\n",
    "    import re\n",
    "    # Pattern-based extraction: longest consecutive vowel or consonant sequence\n",
    "    if firstname:\n",
    "        vc_pattern = \"\".join(['V' if c in 'aeiouy' else 'C' for c in firstname])\n",
    "        matches_v = re.findall(r'V+', vc_pattern)\n",
    "        features[\"max_consecutive_vowels\"] = max(len(m) for m in matches_v) if matches_v else 0\n",
    "        matches_c = re.findall(r'C+', vc_pattern)\n",
    "        features[\"max_consecutive_consonants\"] = max(len(m) for m in matches_c) if matches_c else 0\n",
    "    else:\n",
    "        features[\"max_consecutive_vowels\"] = 0\n",
    "        features[\"max_consecutive_consonants\"] = 0\n",
    "\n",
    "    # Compute vowel-to-consonant ratio (with small epsilon to avoid division by zero)\n",
    "    features[\"vowel_consonant_ratio\"] = features[\"num_vowels\"] / (features[\"num_consonants\"] + 1e-5)\n",
    "\n",
    "    # Extract phonetic representation (Double Metaphone)\n",
    "    features[\"metaphone1\"], features[\"metaphone2\"] = doublemetaphone(firstname)\n",
    "\n",
    "    return features\n",
    "\n",
    "# Apply the feature extraction function to each name in the dataframe\n",
    "features = df[\"firstname\"].apply(extract_features).apply(pd.Series)\n",
    "\n",
    "# Display the resulting column names\n",
    "print(features.columns)\n"
   ]
  },
  {
   "cell_type": "markdown",
   "id": "b9304e62",
   "metadata": {},
   "source": [
    "## **Etape 2: Séparation des données**"
   ]
  },
  {
   "cell_type": "markdown",
   "id": "645c56ce",
   "metadata": {},
   "source": [
    "### Nous allons faire la séparation des données en données Train (70%) pour l'entraînement et données Test (30%) pour l'évaluation.\n"
   ]
  },
  {
   "cell_type": "code",
   "execution_count": 725,
   "id": "59b873c6",
   "metadata": {},
   "outputs": [
    {
     "data": {
      "text/plain": [
       "((7000, 13), (3000, 13), (7000,), (3000,))"
      ]
     },
     "execution_count": 725,
     "metadata": {},
     "output_type": "execute_result"
    }
   ],
   "source": [
    "# Features matrix (X) and target variable (y)\n",
    "X = features                     # Input features extracted from first names\n",
    "y = df[\"gender\"]                # Target variable: gender associated with each name\n",
    "\n",
    "# Split the dataset into training and testing sets\n",
    "X_train, X_test, y_train, y_test = train_test_split(\n",
    "    X,         # Feature matrix\n",
    "    y,         # Target labels\n",
    "    test_size=0.3,      # 30% of the data will be used for testing\n",
    "    random_state=42     # Ensures reproducibility of the split\n",
    ")\n",
    "\n",
    "# Show the shape of the resulting splits to verify the sizes\n",
    "X_train.shape , X_test.shape, y_train.shape, y_test.shape\n"
   ]
  },
  {
   "cell_type": "markdown",
   "id": "d4623353",
   "metadata": {},
   "source": [
    "## **Étape 3 : Entraînement du Modèle (Ensemble Learning)** "
   ]
  },
  {
   "cell_type": "markdown",
   "id": "3e0fb64b",
   "metadata": {},
   "source": [
    "### Pour entrainer ce modele , nous allons utiliser le Gradient Boosting."
   ]
  },
  {
   "cell_type": "code",
   "execution_count": 726,
   "id": "17337959",
   "metadata": {},
   "outputs": [],
   "source": [
    "# Create CatBoost Pool objects for training and testing\n",
    "# Pool is a CatBoost-specific data structure that handles features and categorical variables efficiently\n",
    "\n",
    "train_pool = Pool(\n",
    "    X_train,           # Training features\n",
    "    y_train,           # Training target labels\n",
    "    cat_features=[\"metaphone1\", \"metaphone2\"]  # Specify phonetic features as categorical\n",
    ")\n",
    "\n",
    "test_pool = Pool(\n",
    "    X_test,            # Testing features\n",
    "    y_test,            # Testing target labels\n",
    "    cat_features=['metaphone1', 'metaphone2']  # Same categorical features for consistency\n",
    ")\n"
   ]
  },
  {
   "cell_type": "markdown",
   "id": "1bd88b97",
   "metadata": {},
   "source": [
    "### Nous allons maintenant passer a l'entrainement du modele "
   ]
  },
  {
   "cell_type": "code",
   "execution_count": 801,
   "id": "81674472",
   "metadata": {},
   "outputs": [
    {
     "name": "stdout",
     "output_type": "stream",
     "text": [
      "0:\tlearn: 0.6696155\ttotal: 53.8ms\tremaining: 484ms\n",
      "1:\tlearn: 0.6488639\ttotal: 113ms\tremaining: 453ms\n",
      "2:\tlearn: 0.6276205\ttotal: 170ms\tremaining: 397ms\n",
      "3:\tlearn: 0.6080226\ttotal: 231ms\tremaining: 346ms\n",
      "4:\tlearn: 0.5891443\ttotal: 285ms\tremaining: 285ms\n",
      "5:\tlearn: 0.5714792\ttotal: 342ms\tremaining: 228ms\n",
      "6:\tlearn: 0.5542623\ttotal: 398ms\tremaining: 170ms\n",
      "7:\tlearn: 0.5379862\ttotal: 458ms\tremaining: 114ms\n",
      "8:\tlearn: 0.5223424\ttotal: 515ms\tremaining: 57.2ms\n",
      "9:\tlearn: 0.5069245\ttotal: 572ms\tremaining: 0us\n",
      "\n",
      " Accuracy: 97.13%\n",
      "\n",
      " Classification report:\n",
      "              precision    recall  f1-score   support\n",
      "\n",
      "           0       0.98      0.97      0.97      1549\n",
      "           1       0.97      0.98      0.97      1451\n",
      "\n",
      "    accuracy                           0.97      3000\n",
      "   macro avg       0.97      0.97      0.97      3000\n",
      "weighted avg       0.97      0.97      0.97      3000\n",
      "\n"
     ]
    }
   ],
   "source": [
    "# Initialize the CatBoost classification model\n",
    "# - verbose=True: show training progress\n",
    "# - random_state=42: ensures reproducibility\n",
    "# - iterations=10: ten iterations\n",
    "# - l2_leaf_reg=18.5: L2 regularization strength to prevent overfitting\n",
    "model = CatBoostClassifier(verbose=True, random_state=42, iterations=10, l2_leaf_reg=18.5)\n",
    "\n",
    "# Train the model on the training data (CatBoost Pool)\n",
    "model.fit(train_pool)\n",
    "\n",
    "# Generate predictions on the test set\n",
    "y_pred = model.predict(test_pool)\n",
    "\n",
    "# Evaluate model performance\n",
    "accuracy = accuracy_score(y_test, y_pred)\n",
    "print(f\"\\n Accuracy: {accuracy:.2%}\")  # Display accuracy as a percentage with 2 decimal places\n",
    "\n",
    "# Show detailed classification metrics: precision, recall, f1-score per class\n",
    "print(\"\\n Classification report:\")\n",
    "print(classification_report(y_test, y_pred))\n"
   ]
  },
  {
   "cell_type": "markdown",
   "id": "06898079",
   "metadata": {},
   "source": [
    "## **Étape 4 : Évaluation des Performances**"
   ]
  },
  {
   "cell_type": "code",
   "execution_count": 802,
   "id": "057c6aac",
   "metadata": {},
   "outputs": [
    {
     "name": "stdout",
     "output_type": "stream",
     "text": [
      "\n",
      " Accuracy on the training set: 96.93%\n",
      "\n",
      " Classification report (training set):\n",
      "              precision    recall  f1-score   support\n",
      "\n",
      "  Female (0)       0.97      0.97      0.97      3504\n",
      "    Male (1)       0.97      0.97      0.97      3496\n",
      "\n",
      "    accuracy                           0.97      7000\n",
      "   macro avg       0.97      0.97      0.97      7000\n",
      "weighted avg       0.97      0.97      0.97      7000\n",
      "\n",
      "\n",
      " Accuracy on the test set: 97.13%\n",
      "\n",
      "Classification report (test set):\n",
      "              precision    recall  f1-score   support\n",
      "\n",
      "  Female (0)       0.98      0.97      0.97      1549\n",
      "    Male (1)       0.97      0.98      0.97      1451\n",
      "\n",
      "    accuracy                           0.97      3000\n",
      "   macro avg       0.97      0.97      0.97      3000\n",
      "weighted avg       0.97      0.97      0.97      3000\n",
      "\n"
     ]
    },
    {
     "data": {
      "image/png": "[encoded data removed]",
      "text/plain": [
       "<Figure size 640x480 with 2 Axes>"
      ]
     },
     "metadata": {},
     "output_type": "display_data"
    }
   ],
   "source": [
    "from sklearn.metrics import accuracy_score, classification_report, confusion_matrix\n",
    "import seaborn as sns\n",
    "import matplotlib.pyplot as plt\n",
    "\n",
    "# ======= TRAIN SET EVALUATION =======\n",
    "y_train_pred = model.predict(train_pool)\n",
    "train_accuracy = accuracy_score(y_train, y_train_pred)\n",
    "print(f\"\\n Accuracy on the training set: {train_accuracy:.2%}\")\n",
    "print(\"\\n Classification report (training set):\")\n",
    "print(classification_report(y_train, y_train_pred, target_names=[\"Female (0)\", \"Male (1)\"]))\n",
    "\n",
    "# ======= TEST SET EVALUATION =======\n",
    "y_test_pred = model.predict(test_pool)\n",
    "test_accuracy = accuracy_score(y_test, y_test_pred)\n",
    "print(f\"\\n Accuracy on the test set: {test_accuracy:.2%}\")\n",
    "print(\"\\nClassification report (test set):\")\n",
    "print(classification_report(y_test, y_test_pred, target_names=[\"Female (0)\", \"Male (1)\"]))\n",
    "\n",
    "# ======= CONFUSION MATRIX =======\n",
    "conf_matrix = confusion_matrix(y_test, y_test_pred)\n",
    "sns.heatmap(conf_matrix, annot=True, fmt='d', cmap='Blues',\n",
    "            xticklabels=[\"Female\", \"Male\"], yticklabels=[\"Female\", \"Male\"])\n",
    "plt.xlabel('Predicted')\n",
    "plt.ylabel('Actual')\n",
    "plt.title(\"Confusion Matrix (Test Set)\")\n",
    "plt.show()\n"
   ]
  },
  {
   "cell_type": "markdown",
   "id": "0bd58504",
   "metadata": {},
   "source": [
    "## **Étape 5 : Optimisation (Bonus)**\n"
   ]
  },
  {
   "cell_type": "markdown",
   "id": "09cabe30",
   "metadata": {},
   "source": [
    "### Pour optimiser le modele nous allons utiliser GridSearchCV  pour trouver les meileurs parametres"
   ]
  },
  {
   "cell_type": "code",
   "execution_count": 745,
   "id": "8399344f",
   "metadata": {},
   "outputs": [
    {
     "name": "stdout",
     "output_type": "stream",
     "text": [
      "Fitting 3 folds for each of 36 candidates, totalling 108 fits\n",
      "Best parameters found:  {'depth': 4, 'iterations': 200, 'l2_leaf_reg': 3, 'learning_rate': 0.1}\n",
      "Best score achieved:  1.0\n"
     ]
    }
   ],
   "source": [
    "#GridSearchCV for hyperparameter tuning\n",
    "from sklearn.model_selection import GridSearchCV\n",
    "\n",
    "# Define the parameter grid for hyperparameter tuning\n",
    "param_grid = {\n",
    "    'iterations': [100, 200],  # Number of boosting iterations\n",
    "    'depth': [4, 6, 8],        # Depth of the trees\n",
    "    'learning_rate': [0.01, 0.1],  # Learning rate for gradient boosting\n",
    "    'l2_leaf_reg': [3, 5, 10]  # L2 regularization coefficient\n",
    "}\n",
    "# Initialize the CatBoostClassifier\n",
    "catboost_model = CatBoostClassifier(verbose=False, random_state=42)\n",
    "\n",
    "# Initialize GridSearchCV with CatBoostClassifier and the parameter grid\n",
    "grid_search = GridSearchCV(estimator=catboost_model, param_grid=param_grid,     \n",
    "                            scoring='accuracy', cv=3, n_jobs=-1, verbose=1)\n",
    "\n",
    "# Fit the GridSearchCV to the training data\n",
    "grid_search.fit(X_train, y_train,cat_features=[\"metaphone1\", \"metaphone2\"])\n",
    "\n",
    "# Display the best parameters found by GridSearchCV\n",
    "print(\"Best parameters found: \", grid_search.best_params_)\n",
    "\n",
    "# Display the best score achieved during the grid search\n",
    "print(\"Best score achieved: \", grid_search.best_score_)"
   ]
  },
  {
   "cell_type": "markdown",
   "id": "7472661f",
   "metadata": {},
   "source": [
    "### **Feature importances:** Pour déterminer les features qui influencent le plus la prédiction."
   ]
  },
  {
   "cell_type": "code",
   "execution_count": 803,
   "id": "5c160913",
   "metadata": {},
   "outputs": [
    {
     "name": "stderr",
     "output_type": "stream",
     "text": [
      "C:\\Users\\sasar\\AppData\\Local\\Temp\\ipykernel_26264\\716276188.py:14: FutureWarning: \n",
      "\n",
      "Passing `palette` without assigning `hue` is deprecated and will be removed in v0.14.0. Assign the `y` variable to `hue` and set `legend=False` for the same effect.\n",
      "\n",
      "  sns.barplot(x='importance', y='feature', data=importance_df.head(20), palette='viridis')\n"
     ]
    },
    {
     "data": {
      "image/png": "[encoded data removed]",
      "text/plain": [
       "<Figure size 1200x800 with 1 Axes>"
      ]
     },
     "metadata": {},
     "output_type": "display_data"
    },
    {
     "data": {
      "text/html": [
       "<div>\n",
       "<style scoped>\n",
       "    .dataframe tbody tr th:only-of-type {\n",
       "        vertical-align: middle;\n",
       "    }\n",
       "\n",
       "    .dataframe tbody tr th {\n",
       "        vertical-align: top;\n",
       "    }\n",
       "\n",
       "    .dataframe thead th {\n",
       "        text-align: right;\n",
       "    }\n",
       "</style>\n",
       "<table border=\"1\" class=\"dataframe\">\n",
       "  <thead>\n",
       "    <tr style=\"text-align: right;\">\n",
       "      <th></th>\n",
       "      <th>feature</th>\n",
       "      <th>importance</th>\n",
       "    </tr>\n",
       "  </thead>\n",
       "  <tbody>\n",
       "    <tr>\n",
       "      <th>11</th>\n",
       "      <td>metaphone1</td>\n",
       "      <td>61.861182</td>\n",
       "    </tr>\n",
       "    <tr>\n",
       "      <th>7</th>\n",
       "      <td>ends_with_vowel</td>\n",
       "      <td>16.851722</td>\n",
       "    </tr>\n",
       "    <tr>\n",
       "      <th>2</th>\n",
       "      <td>has_masculine_ending</td>\n",
       "      <td>7.255511</td>\n",
       "    </tr>\n",
       "    <tr>\n",
       "      <th>3</th>\n",
       "      <td>num_vowels</td>\n",
       "      <td>2.853187</td>\n",
       "    </tr>\n",
       "    <tr>\n",
       "      <th>1</th>\n",
       "      <td>has_feminine_ending</td>\n",
       "      <td>2.395960</td>\n",
       "    </tr>\n",
       "    <tr>\n",
       "      <th>10</th>\n",
       "      <td>vowel_consonant_ratio</td>\n",
       "      <td>2.216588</td>\n",
       "    </tr>\n",
       "    <tr>\n",
       "      <th>0</th>\n",
       "      <td>length</td>\n",
       "      <td>2.196204</td>\n",
       "    </tr>\n",
       "    <tr>\n",
       "      <th>8</th>\n",
       "      <td>max_consecutive_vowels</td>\n",
       "      <td>1.860007</td>\n",
       "    </tr>\n",
       "    <tr>\n",
       "      <th>4</th>\n",
       "      <td>num_consonants</td>\n",
       "      <td>1.272390</td>\n",
       "    </tr>\n",
       "    <tr>\n",
       "      <th>9</th>\n",
       "      <td>max_consecutive_consonants</td>\n",
       "      <td>1.237249</td>\n",
       "    </tr>\n",
       "  </tbody>\n",
       "</table>\n",
       "</div>"
      ],
      "text/plain": [
       "                       feature  importance\n",
       "11                  metaphone1   61.861182\n",
       "7              ends_with_vowel   16.851722\n",
       "2         has_masculine_ending    7.255511\n",
       "3                   num_vowels    2.853187\n",
       "1          has_feminine_ending    2.395960\n",
       "10       vowel_consonant_ratio    2.216588\n",
       "0                       length    2.196204\n",
       "8       max_consecutive_vowels    1.860007\n",
       "4               num_consonants    1.272390\n",
       "9   max_consecutive_consonants    1.237249"
      ]
     },
     "execution_count": 803,
     "metadata": {},
     "output_type": "execute_result"
    }
   ],
   "source": [
    "# ======= Feature Importance Extraction and Visualization =======\n",
    "\n",
    "# Get feature importances from the model\n",
    "importances = model.get_feature_importance(train_pool)\n",
    "\n",
    "# Create a DataFrame to hold feature names and their importances\n",
    "importance_df = pd.DataFrame({\n",
    "    'feature': X_train.columns,\n",
    "    'importance': importances\n",
    "}).sort_values(by='importance', ascending=False)\n",
    "\n",
    "# Plot the Top 20 most important features\n",
    "plt.figure(figsize=(12, 8))\n",
    "sns.barplot(x='importance', y='feature', data=importance_df.head(20), palette='viridis')\n",
    "plt.title('Top 20 Most Important Features')\n",
    "plt.xlabel('Importance Score')\n",
    "plt.ylabel('Feature Name')\n",
    "plt.tight_layout()\n",
    "plt.show()\n",
    "\n",
    "# Optional: Filter to display only features with non-zero importance\n",
    "non_zero_importance_df = importance_df[importance_df['importance'] > 0]\n",
    "non_zero_importance_df.head(20)\n"
   ]
  },
  {
   "cell_type": "markdown",
   "id": "b0e11e8a",
   "metadata": {},
   "source": [
    "## **Étape 6 : Prédiction sur de Nouvelles Données**"
   ]
  },
  {
   "cell_type": "markdown",
   "id": "bce677b5",
   "metadata": {},
   "source": [
    "### Création d'une fonction predict_gender(nom_et_prenom) qui retourne 0 si le modèle prédit Femme et 1 si le modèle prédit Homme."
   ]
  },
  {
   "cell_type": "code",
   "execution_count": 804,
   "id": "68675229",
   "metadata": {},
   "outputs": [],
   "source": [
    "def predict_gender(name, model):\n",
    "    \"\"\"\n",
    "    Predicts the gender of a given first name using the trained model.\n",
    "\n",
    "    Parameters:\n",
    "    - name (str): The input first name to classify.\n",
    "    - model (CatBoostClassifier): The trained CatBoost model.\n",
    "\n",
    "    Returns:\n",
    "    - prediction (int): Predicted gender label (e.g., 0 = female, 1 = male).\n",
    "    - proba (ndarray): Probability scores for each class.\n",
    "    \"\"\"\n",
    "\n",
    "    # Extract features from the name\n",
    "    features_dict = extract_features(name)\n",
    "    df_features = pd.DataFrame([features_dict])\n",
    "\n",
    "    # Ensure categorical features are treated as strings\n",
    "    for col in [\"metaphone1\", \"metaphone2\"]:\n",
    "        if col in df_features.columns:\n",
    "            df_features[col] = df_features[col].astype(str)\n",
    "\n",
    "    # Predict the label and its probability\n",
    "    prediction = model.predict(df_features)\n",
    "    proba = model.predict_proba(df_features)\n",
    "\n",
    "    return prediction[0], proba\n"
   ]
  },
  {
   "cell_type": "code",
   "execution_count": 805,
   "id": "529440e2",
   "metadata": {},
   "outputs": [
    {
     "name": "stdout",
     "output_type": "stream",
     "text": [
      "Predicted gender for 'Genevieve': 0 (probability = [[0.62287416 0.37712584]])\n"
     ]
    }
   ],
   "source": [
    "# Test the model on a new name\n",
    "prenom ='Genevieve'\n",
    "genre, proba = predict_gender(prenom, model)\n",
    "\n",
    "# Display the predicted gender and the probability\n",
    "print(f\"Predicted gender for '{prenom}': {genre} (probability = {proba})\")\n"
   ]
  },
  {
   "cell_type": "code",
   "execution_count": null,
   "id": "18ef55f2",
   "metadata": {},
   "outputs": [],
   "source": []
  }
 ],
 "metadata": {
  "kernelspec": {
   "display_name": "tp_env",
   "language": "python",
   "name": "python3"
  },
  "language_info": {
   "codemirror_mode": {
    "name": "ipython",
    "version": 3
   },
   "file_extension": ".py",
   "mimetype": "text/x-python",
   "name": "python",
   "nbconvert_exporter": "python",
   "pygments_lexer": "ipython3",
   "version": "3.12.8"
  }
 },
 "nbformat": 4,
 "nbformat_minor": 5
}
