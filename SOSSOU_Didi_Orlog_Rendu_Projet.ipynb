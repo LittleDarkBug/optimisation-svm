{
 "cells": [
  {
   "metadata": {},
   "cell_type": "markdown",
   "source": [
    "### Nom et Prénoms : SOSSOU Didi Orlog\n",
    "### Parcours :  IA Big Data"
   ],
   "id": "79484e158cc5d174"
  },
  {
   "metadata": {},
   "cell_type": "markdown",
   "source": "## I- Introduction example",
   "id": "88b0835e80b0eb4b"
  },
  {
   "metadata": {},
   "cell_type": "markdown",
   "source": [
    "#### 1- Réécriture sous la forme standard en mettant la contrainte sous la forme \n",
    "$$ g(\\theta) \\leq 0 $$\n",
    "\n",
    "$$\n",
    "\\min_{\\theta_1, \\theta_2} \\frac{1}{2} (\\theta_1^2 + \\theta_2^2)\n",
    "$$\n",
    "\n",
    "#### Sc:\n",
    "\n",
    "$$\n",
    "1 - \\theta_1 - \\theta_2  \\leq 0\n",
    "$$\n"
   ],
   "id": "504eba229c13dd17"
  },
  {
   "metadata": {
    "ExecuteTime": {
     "end_time": "2025-03-16T16:19:27.640646Z",
     "start_time": "2025-03-16T16:19:27.598880Z"
    }
   },
   "cell_type": "code",
   "source": [
    "import sympy as sp\n",
    "\n",
    "theta1, theta2, mu = sp.symbols('theta1 theta2 mu', real=True)\n",
    "f = (theta1**2 + theta2**2) / 2  # Objectif\n",
    "g =  1 - theta1 - theta2 # Contrainte réécrite sous la forme g(θ) ≤ 0\n",
    "\n",
    "#Affichage\n",
    "f, g"
   ],
   "id": "269b0ced5cd9cdfc",
   "outputs": [
    {
     "data": {
      "text/plain": [
       "⎛  2     2              ⎞\n",
       "⎜θ₁    θ₂               ⎟\n",
       "⎜─── + ───, -θ₁ - θ₂ + 1⎟\n",
       "⎝ 2     2               ⎠"
      ],
      "image/png": "[encoded data removed]",
      "text/latex": "$\\displaystyle \\left( \\frac{\\theta_{1}^{2}}{2} + \\frac{\\theta_{2}^{2}}{2}, \\  - \\theta_{1} - \\theta_{2} + 1\\right)$"
     },
     "execution_count": 25,
     "metadata": {},
     "output_type": "execute_result"
    }
   ],
   "execution_count": 25
  },
  {
   "metadata": {},
   "cell_type": "markdown",
   "source": [
    "#### 2 - Le Lagrangien est donné par :\n",
    "\n",
    "$$ L(\\theta_1, \\theta_2, \\mu) = \\frac{1}{2} (\\theta_1^2 + \\theta_2^2) + \\mu (1 - \\theta_1 - \\theta_2) $$\n",
    "\n",
    "\n",
    "avec\n",
    "\n",
    "a. $$ \\mu \\geq 0 $$\n",
    "b. $$ \\mu (1 - \\theta_1 - \\theta_2) = 0 $$\n",
    "\n"
   ],
   "id": "33af50e1ffd04d45"
  },
  {
   "metadata": {
    "ExecuteTime": {
     "end_time": "2025-03-16T16:20:17.289523Z",
     "start_time": "2025-03-16T16:20:17.253151Z"
    }
   },
   "cell_type": "code",
   "source": [
    "# Définition du Lagrangien\n",
    "L = f + mu * g\n",
    "\n",
    "L"
   ],
   "id": "4749cc30112a6de3",
   "outputs": [
    {
     "data": {
      "text/plain": [
       "                     2     2\n",
       "                   θ₁    θ₂ \n",
       "μ⋅(-θ₁ - θ₂ + 1) + ─── + ───\n",
       "                    2     2 "
      ],
      "image/png": "[encoded data removed]",
      "text/latex": "$\\displaystyle \\mu \\left(- \\theta_{1} - \\theta_{2} + 1\\right) + \\frac{\\theta_{1}^{2}}{2} + \\frac{\\theta_{2}^{2}}{2}$"
     },
     "execution_count": 26,
     "metadata": {},
     "output_type": "execute_result"
    }
   ],
   "execution_count": 26
  },
  {
   "metadata": {},
   "cell_type": "markdown",
   "source": [
    "#### 3- Stationarité\n",
    "\n",
    "$$\n",
    "\\frac{\\partial L}{\\partial \\theta_1} = 0, \\quad \\frac{\\partial L}{\\partial \\theta_2} = 0\n",
    "$$\n"
   ],
   "id": "b73053fd0121af7f"
  },
  {
   "metadata": {
    "ExecuteTime": {
     "end_time": "2025-03-16T16:20:21.944488Z",
     "start_time": "2025-03-16T16:20:21.907611Z"
    }
   },
   "cell_type": "code",
   "source": [
    "# Calcul des dérivées partielles\n",
    "grad_L_theta1 = sp.diff(L, theta1)\n",
    "grad_L_theta2 = sp.diff(L, theta2)\n",
    "\n",
    "# Résolution du systeme\n",
    "sol_theta = sp.solve([grad_L_theta1, grad_L_theta2], (theta1, theta2))\n",
    "\n",
    "print(\"Solution en fonction de μ :\")\n",
    "sp.Eq(theta1, sol_theta[theta1]), sp.Eq(theta2, sol_theta[theta2])"
   ],
   "id": "7258730cee6d746b",
   "outputs": [
    {
     "name": "stdout",
     "output_type": "stream",
     "text": [
      "Solution en fonction de μ :\n"
     ]
    },
    {
     "data": {
      "text/plain": [
       "(θ₁ = μ, θ₂ = μ)"
      ],
      "image/png": "[encoded data removed]",
      "text/latex": "$\\displaystyle \\left( \\theta_{1} = \\mu, \\  \\theta_{2} = \\mu\\right)$"
     },
     "execution_count": 27,
     "metadata": {},
     "output_type": "execute_result"
    }
   ],
   "execution_count": 27
  },
  {
   "metadata": {},
   "cell_type": "markdown",
   "source": [
    "#### 4- Le dual s’écrit :\n",
    "\n",
    "$$\n",
    "\\max_{\\mu \\geq 0} \\quad \\min_{\\theta_1, \\theta_2} \\mathcal{L}(\\theta_1, \\theta_2, \\mu)\n",
    "$$\n",
    "avec \n",
    "$$\n",
    "g(\\mu) = \\min_{\\theta_1, \\theta_2} L(\\theta_1, \\theta_2, \\mu)\n",
    "$$\n",
    "\n"
   ],
   "id": "9817067d65f79d88"
  },
  {
   "metadata": {
    "ExecuteTime": {
     "end_time": "2025-03-16T16:20:31.169668Z",
     "start_time": "2025-03-16T16:20:31.136059Z"
    }
   },
   "cell_type": "code",
   "source": [
    "# Substitution des solutions dans le Lagrangien\n",
    "theta1_opt, theta2_opt = sol_theta[theta1], sol_theta[theta2]\n",
    "L_dual = L.subs({theta1: theta1_opt, theta2: theta2_opt})\n",
    "\n",
    "# Fonction duale\n",
    "g_mu = sp.simplify(L_dual)\n",
    "\n",
    "print(\"Fonction duale g(μ) :\")\n",
    "g_mu"
   ],
   "id": "3e26c1ae608dbe9c",
   "outputs": [
    {
     "name": "stdout",
     "output_type": "stream",
     "text": [
      "Fonction duale g(μ) :\n"
     ]
    },
    {
     "data": {
      "text/plain": [
       "μ⋅(1 - μ)"
      ],
      "image/png": "[encoded data removed]",
      "text/latex": "$\\displaystyle \\mu \\left(1 - \\mu\\right)$"
     },
     "execution_count": 28,
     "metadata": {},
     "output_type": "execute_result"
    }
   ],
   "execution_count": 28
  },
  {
   "metadata": {
    "ExecuteTime": {
     "end_time": "2025-03-16T16:20:35.403147Z",
     "start_time": "2025-03-16T16:20:35.397751Z"
    }
   },
   "cell_type": "code",
   "source": [
    "# Maximisation de la fonction duale\n",
    "grad_g_mu = sp.diff(g_mu, mu)\n",
    "mu_star = sp.solve(grad_g_mu, mu)\n",
    "\n",
    "# Filtre les solutions admissibles (μ ≥ 0)\n",
    "mu_star = [m.evalf() for m in mu_star if m >= 0]\n",
    "\n",
    "print(\"Valeur optimale de μ* :\",mu_star)"
   ],
   "id": "f81066275bb14ae4",
   "outputs": [
    {
     "name": "stdout",
     "output_type": "stream",
     "text": [
      "Valeur optimale de μ* : [0.500000000000000]\n"
     ]
    }
   ],
   "execution_count": 29
  },
  {
   "metadata": {},
   "cell_type": "markdown",
   "source": "#### 5- Tracé de la fonction duale g(μ) pour illustrer son maximum.\n",
   "id": "704bc4c8e2ebeedc"
  },
  {
   "metadata": {
    "ExecuteTime": {
     "end_time": "2025-03-16T16:23:02.530125Z",
     "start_time": "2025-03-16T16:23:02.262938Z"
    }
   },
   "cell_type": "code",
   "source": [
    "import numpy as np\n",
    "import matplotlib.pyplot as plt\n",
    "\n",
    "# Conversion de g(mu) en fonction numérique\n",
    "g_mu_func = sp.lambdify(mu, g_mu, 'numpy')\n",
    "\n",
    "# Domaine de mu\n",
    "mu_vals = np.linspace(0, 5, 100)\n",
    "g_vals = g_mu_func(mu_vals)\n",
    "\n",
    "plt.figure(figsize=(8, 5))\n",
    "plt.plot(mu_vals, g_vals, label=\"g(μ)\", color='b')\n",
    "plt.axvline(mu_star[0], color='r', linestyle='--', label=\"μ*\")\n",
    "plt.xlabel(\"μ\")\n",
    "plt.ylabel(\"g(μ)\")\n",
    "plt.legend()\n",
    "plt.title(\"Fonction duale\")\n",
    "plt.grid()\n",
    "plt.show()\n"
   ],
   "id": "d6ba93125b579da7",
   "outputs": [
    {
     "data": {
      "text/plain": [
       "<Figure size 800x500 with 1 Axes>"
      ],
      "image/png": "[encoded data removed]"
     },
     "metadata": {},
     "output_type": "display_data"
    }
   ],
   "execution_count": 30
  },
  {
   "metadata": {},
   "cell_type": "markdown",
   "source": "## II- A more evolved problem",
   "id": "f0ae5349bb1d1d26"
  },
  {
   "metadata": {},
   "cell_type": "markdown",
   "source": "### 2.1 Mathematical derivation. . .",
   "id": "692c29a6214efec8"
  },
  {
   "metadata": {},
   "cell_type": "markdown",
   "source": [
    "### 1- Forme matricielle :  \n",
    "Développons la fonction objectif :  \n",
    "\n",
    "$$\n",
    "\\frac{1}{2} (\\theta_1 - 3)^2 + \\frac{1}{2} (\\theta_2 - 1)^2\n",
    "= \\frac{1}{2} \\left( \\theta_1^2 - 6\\theta_1 + 9 + \\theta_2^2 - 2\\theta_2 + 1 \\right).\n",
    "$$\n",
    "\n",
    "En regroupant les termes :\n",
    "\n",
    "$$\n",
    "\\frac{1}{2} (\\theta_1^2 + \\theta_2^2) - 3\\theta_1 - \\theta_2 + 5.\n",
    "$$\n",
    "\n",
    "Or,  \n",
    "\n",
    "$$\n",
    "\\|\\theta - c\\|_2^2 = (\\theta - c)^T (\\theta - c) = \\theta^T \\theta - 2c^T \\theta + c^T c.\n",
    "$$\n",
    "\n",
    "En posant $$ c = \\begin{bmatrix} 3 \\\\ 1 \\end{bmatrix}$$ on obtient :\n",
    "\n",
    "$$\n",
    "\\frac{1}{2} \\|\\theta - c\\|_2^2.\n",
    "$$\n",
    "\n",
    "Pour les contraintes, on réécrit :  \n",
    "\n",
    "$$\n",
    "\\begin{bmatrix} \n",
    "1 & 1 \\\\ \n",
    "1 & -1 \\\\ \n",
    "-1 & 1 \\\\ \n",
    "-1 & -1 \n",
    "\\end{bmatrix}\n",
    "\\begin{bmatrix} \\theta_1 \\\\ \\theta_2 \\end{bmatrix}\n",
    "\\leq \n",
    "\\begin{bmatrix} 1 \\\\ 1 \\\\ 1 \\\\ 1 \\end{bmatrix}.\n",
    "$$\n",
    "\n",
    "On pose donc :\n",
    "\n",
    "$$\n",
    "A = \\begin{bmatrix} \n",
    "1 & 1 \\\\ \n",
    "1 & -1 \\\\ \n",
    "-1 & 1 \\\\ \n",
    "-1 & -1 \n",
    "\\end{bmatrix}, \\quad\n",
    "b = \\begin{bmatrix} 1 \\\\ 1 \\\\ 1 \\\\ 1 \\end{bmatrix}.\n",
    "$$\n",
    "\n",
    "Le problème s’écrit sous la forme :\n",
    "\n",
    "$$\n",
    "\\min_{\\theta} \\frac{1}{2} \\|\\theta - c\\|_2^2, \\quad \\text{sous } A\\theta - b \\leq 0.\n",
    "$$\n",
    "\n",
    "---\n",
    "\n",
    "### 2. Lagrangien\n",
    "\n",
    "\n",
    "$$\n",
    "\\mathcal{L}(\\theta, \\mu) = \\frac{1}{2} \\|\\theta - c\\|_2^2 + \\mu^T (A\\theta - b).\n",
    "$$\n",
    "\n",
    "$$ \\mu \\in \\mathbb{R}^4 $$ et $$ \\mu \\geq 0 $$\n",
    "\n",
    "---\n",
    "\n",
    "### 3. Condition stationnaire KKT\n",
    "\n",
    "#### (a) Développement de la norme \n",
    "\n",
    "On développe :\n",
    "\n",
    "$$\n",
    "\\|\\theta - c\\|_2^2 = (\\theta - c)^T (\\theta - c).\n",
    "$$\n",
    "\n",
    "$$\n",
    "\\|\\theta - c\\|_2^2 = \\theta^T \\theta - 2c^T \\theta + c^T c.\n",
    "$$\n",
    "\n",
    "#### (b) Gradient  \n",
    "- Soit $$ f(\\theta) = \\theta^T \\theta $$\n",
    "\n",
    "$$\n",
    "D_v f(\\theta) = \\lim_{h \\to 0} \\frac{f(\\theta + h v) - f(\\theta)}{h}.\n",
    "$$\n",
    "\n",
    "$$\n",
    "f(\\theta + h v) = (\\theta + h v)^T (\\theta + h v) = \\theta^T \\theta + 2h \\theta^T v + h^2 v^T v.\n",
    "$$\n",
    "\n",
    "$$\n",
    "f(\\theta + h v) - f(\\theta) = 2h \\theta^T v + h^2 v^T v.\n",
    "$$\n",
    "\n",
    "$$\n",
    "\\frac{f(\\theta + h v) - f(\\theta)}{h} = 2 \\theta^T v + h v^T v.\n",
    "$$\n",
    "\n",
    "$$\n",
    "\\lim_{h \\to 0} \\frac{f(\\theta + h v) - f(\\theta)}{h} = 2 \\theta^T v.\n",
    "$$\n",
    "\n",
    "$$\n",
    "\\nabla_{\\theta} (\\theta^T \\theta) = 2\\theta.\n",
    "$$\n",
    "\n",
    "- Soit $$ g(\\theta) = \\theta^T c $$\n",
    "\n",
    "$$\n",
    "D_v g(\\theta) = \\lim_{h \\to 0} \\frac{g(\\theta + h v) - g(\\theta)}{h}.\n",
    "$$\n",
    "\n",
    "$$\n",
    "g(\\theta + h v) = (\\theta + h v)^T c = \\theta^T c + h v^T c.\n",
    "$$\n",
    "\n",
    "$$\n",
    "g(\\theta + h v) - f(\\theta) = h v^T c.\n",
    "$$\n",
    "\n",
    "$$\n",
    "\\frac{f(\\theta + h v) - g(\\theta)}{h} = v^T c.\n",
    "$$\n",
    "\n",
    "$$\n",
    "\\lim_{h \\to 0} \\frac{g(\\theta + h v) - g(\\theta)}{h} = v^T c.\n",
    "$$\n",
    "\n",
    "$$\n",
    "\\nabla_{\\theta} (\\theta^T c) = c.\n",
    "$$\n",
    "\n",
    "\n",
    "\n",
    "De ce qui precede, \n",
    "$$\n",
    "\\nabla_{\\theta} (\\theta^T \\theta) = 2\\theta.\n",
    "$$\n",
    "et\n",
    "$$\n",
    "\\nabla_{\\theta} (\\theta^T c) = c.\n",
    "$$\n",
    "\n",
    "Ainsi,\n",
    "\n",
    "$$\n",
    "\\nabla_{\\theta} \\|\\theta - c\\|_2^2 = 2(\\theta - c).\n",
    "$$\n",
    "\n",
    "\n",
    "---\n",
    "\n",
    "### 4. Condition stationnaire des KKT et expression de theta\n",
    "\n",
    "\n",
    "$$\n",
    "\\nabla_{\\theta} \\mathcal{L} = 0.\n",
    "$$\n",
    "\n",
    "\n",
    "$$\n",
    "\\nabla_{\\theta} \\mathcal{L} = \\nabla_{\\theta} \\left( \\frac{1}{2} \\|\\theta - c\\|_2^2 + \\mu^T (A\\theta - b) \\right).\n",
    "$$\n",
    "\n",
    "En utilisant les dérivées précédentes :\n",
    "\n",
    "$$\n",
    "\\nabla_{\\theta} \\mathcal{L} = (\\theta - c) + A^T \\mu = 0.\n",
    "$$\n",
    "\n",
    "On en déduit :\n",
    "\n",
    "$$\n",
    "\\theta = c - A^T \\mu.\n",
    "$$\n",
    "\n",
    "---\n",
    "\n",
    "### 5. Problème dual  \n",
    "\n",
    "En remplaçant $$ \\theta = c - A^T \\mu $$ dans la fonction objectif :\n",
    "\n",
    "$$\n",
    "\\frac{1}{2} \\|\\theta - c\\|_2^2 = \\frac{1}{2} (c - A^T \\mu - c)^T (c - A^T \\mu - c).\n",
    "$$\n",
    "\n",
    "Ce qui donne :\n",
    "\n",
    "$$\n",
    "\\frac{1}{2} \\mu^T A A^T \\mu.\n",
    "$$\n",
    "\n",
    "Le terme de contrainte devient :\n",
    "\n",
    "$$\n",
    "A\\theta - b = A(c - A^T \\mu) - b = Ac - A A^T \\mu - b.\n",
    "$$\n",
    "\n",
    "On pose :\n",
    "\n",
    "$$\n",
    "H = A A^T, \\quad q = -(Ac - b).\n",
    "$$\n",
    "\n",
    "Le problème dual est alors :\n",
    "\n",
    "$$\n",
    "\\min_{\\mu} \\quad \\frac{1}{2} \\mu^T H \\mu + \\mu^T q\n",
    "$$\n",
    "\n",
    "sous la contrainte :\n",
    "\n",
    "$$\n",
    "\\mu \\geq 0.\n",
    "$$\n",
    "\n",
    "\n"
   ],
   "id": "d177ec043129f11d"
  },
  {
   "metadata": {},
   "cell_type": "markdown",
   "source": "### 2.2 . . . and numerical implementation",
   "id": "660da1a20aae7bb7"
  }
 ],
 "metadata": {
  "kernelspec": {
   "display_name": "Python 3",
   "language": "python",
   "name": "python3"
  },
  "language_info": {
   "codemirror_mode": {
    "name": "ipython",
    "version": 2
   },
   "file_extension": ".py",
   "mimetype": "text/x-python",
   "name": "python",
   "nbconvert_exporter": "python",
   "pygments_lexer": "ipython2",
   "version": "2.7.6"
  }
 },
 "nbformat": 4,
 "nbformat_minor": 5
}
